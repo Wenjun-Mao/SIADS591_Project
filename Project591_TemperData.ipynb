{
 "metadata": {
  "language_info": {
   "codemirror_mode": {
    "name": "ipython",
    "version": 3
   },
   "file_extension": ".py",
   "mimetype": "text/x-python",
   "name": "python",
   "nbconvert_exporter": "python",
   "pygments_lexer": "ipython3",
   "version": "3.9.4"
  },
  "orig_nbformat": 2,
  "kernelspec": {
   "name": "python394jvsc74a57bd0557e109ac264cdc2492409c8fa8d58aecf756628952d6e2cb8fcb82be6facdc6",
   "display_name": "Python 3.9.4 64-bit ('myenv01': conda)"
  }
 },
 "nbformat": 4,
 "nbformat_minor": 2,
 "cells": [
  {
   "cell_type": "code",
   "execution_count": 1,
   "metadata": {},
   "outputs": [],
   "source": [
    "import pandas as pd\n",
    "import numpy as np\n",
    "import matplotlib.pyplot as plt\n",
    "import seaborn as sns\n",
    "import datetime as dt\n",
    "\n",
    "import plotly_express as px\n",
    "import plotly.graph_objects as go\n",
    "from plotly.subplots import make_subplots\n",
    "\n",
    "%matplotlib inline"
   ]
  },
  {
   "cell_type": "code",
   "execution_count": 2,
   "metadata": {},
   "outputs": [],
   "source": [
    "df20 = pd.read_csv('./data/output20v2.csv')\n",
    "df21 = pd.read_csv('./data/output21.csv')\n",
    "df = pd.concat([df20, df21])"
   ]
  },
  {
   "cell_type": "code",
   "execution_count": 10,
   "metadata": {},
   "outputs": [
    {
     "output_type": "stream",
     "name": "stdout",
     "text": [
      "<class 'pandas.core.frame.DataFrame'>\nInt64Index: 1131633 entries, 0 to 277210\nData columns (total 8 columns):\n #   Column      Non-Null Count    Dtype \n---  ------      --------------    ----- \n 0   Unnamed: 0  1131633 non-null  int64 \n 1   date        1131633 non-null  object\n 2   datatype    1131633 non-null  object\n 3   station     1131633 non-null  object\n 4   attributes  1131633 non-null  object\n 5   value       1131633 non-null  int64 \n 6   locationid  1131633 non-null  object\n 7   state       1131633 non-null  object\ndtypes: int64(2), object(6)\nmemory usage: 110.0+ MB\n"
     ]
    }
   ],
   "source": [
    "df.info()"
   ]
  },
  {
   "cell_type": "code",
   "execution_count": 18,
   "metadata": {},
   "outputs": [
    {
     "output_type": "execute_result",
     "data": {
      "text/plain": [
       "   Unnamed: 0                 date datatype            station attributes  \\\n",
       "0           0  2020-01-01T00:00:00     TAVG  GHCND:USR0000ABAN       ,,U,   \n",
       "1           1  2020-01-01T00:00:00     TAVG  GHCND:USR0000ABNS       ,,U,   \n",
       "2           2  2020-01-01T00:00:00     TAVG  GHCND:USR0000ALIR       ,,U,   \n",
       "3           3  2020-01-01T00:00:00     TAVG  GHCND:USR0000AOKM       ,,U,   \n",
       "4           4  2020-01-01T00:00:00     TAVG  GHCND:USR0000AOPE       ,,U,   \n",
       "\n",
       "   value locationid    state  \n",
       "0     72    FIPS:01  Alabama  \n",
       "1    135    FIPS:01  Alabama  \n",
       "2     38    FIPS:01  Alabama  \n",
       "3     66    FIPS:01  Alabama  \n",
       "4    102    FIPS:01  Alabama  "
      ],
      "text/html": "<div>\n<style scoped>\n    .dataframe tbody tr th:only-of-type {\n        vertical-align: middle;\n    }\n\n    .dataframe tbody tr th {\n        vertical-align: top;\n    }\n\n    .dataframe thead th {\n        text-align: right;\n    }\n</style>\n<table border=\"1\" class=\"dataframe\">\n  <thead>\n    <tr style=\"text-align: right;\">\n      <th></th>\n      <th>Unnamed: 0</th>\n      <th>date</th>\n      <th>datatype</th>\n      <th>station</th>\n      <th>attributes</th>\n      <th>value</th>\n      <th>locationid</th>\n      <th>state</th>\n    </tr>\n  </thead>\n  <tbody>\n    <tr>\n      <th>0</th>\n      <td>0</td>\n      <td>2020-01-01T00:00:00</td>\n      <td>TAVG</td>\n      <td>GHCND:USR0000ABAN</td>\n      <td>,,U,</td>\n      <td>72</td>\n      <td>FIPS:01</td>\n      <td>Alabama</td>\n    </tr>\n    <tr>\n      <th>1</th>\n      <td>1</td>\n      <td>2020-01-01T00:00:00</td>\n      <td>TAVG</td>\n      <td>GHCND:USR0000ABNS</td>\n      <td>,,U,</td>\n      <td>135</td>\n      <td>FIPS:01</td>\n      <td>Alabama</td>\n    </tr>\n    <tr>\n      <th>2</th>\n      <td>2</td>\n      <td>2020-01-01T00:00:00</td>\n      <td>TAVG</td>\n      <td>GHCND:USR0000ALIR</td>\n      <td>,,U,</td>\n      <td>38</td>\n      <td>FIPS:01</td>\n      <td>Alabama</td>\n    </tr>\n    <tr>\n      <th>3</th>\n      <td>3</td>\n      <td>2020-01-01T00:00:00</td>\n      <td>TAVG</td>\n      <td>GHCND:USR0000AOKM</td>\n      <td>,,U,</td>\n      <td>66</td>\n      <td>FIPS:01</td>\n      <td>Alabama</td>\n    </tr>\n    <tr>\n      <th>4</th>\n      <td>4</td>\n      <td>2020-01-01T00:00:00</td>\n      <td>TAVG</td>\n      <td>GHCND:USR0000AOPE</td>\n      <td>,,U,</td>\n      <td>102</td>\n      <td>FIPS:01</td>\n      <td>Alabama</td>\n    </tr>\n  </tbody>\n</table>\n</div>"
     },
     "metadata": {},
     "execution_count": 18
    }
   ],
   "source": [
    "df.head()"
   ]
  },
  {
   "cell_type": "code",
   "execution_count": 19,
   "metadata": {},
   "outputs": [
    {
     "output_type": "execute_result",
     "data": {
      "text/plain": [
       "        Unnamed: 0                 date datatype            station  \\\n",
       "276895         734  2021-04-30T00:00:00     TAVG  GHCND:USS0010G20S   \n",
       "276896         735  2021-04-30T00:00:00     TAVG  GHCND:USS0010G22S   \n",
       "276897         736  2021-04-30T00:00:00     TAVG  GHCND:USS0010G23S   \n",
       "276898         737  2021-04-30T00:00:00     TAVG  GHCND:USS0010G24S   \n",
       "276899         738  2021-04-30T00:00:00     TAVG  GHCND:USS0010G25S   \n",
       "\n",
       "       attributes  value locationid    state  \n",
       "276895       ,,T,     89    FIPS:56  Wyoming  \n",
       "276896       ,,T,     93    FIPS:56  Wyoming  \n",
       "276897       ,,T,    104    FIPS:56  Wyoming  \n",
       "276898       ,,T,    103    FIPS:56  Wyoming  \n",
       "276899       ,,T,     94    FIPS:56  Wyoming  "
      ],
      "text/html": "<div>\n<style scoped>\n    .dataframe tbody tr th:only-of-type {\n        vertical-align: middle;\n    }\n\n    .dataframe tbody tr th {\n        vertical-align: top;\n    }\n\n    .dataframe thead th {\n        text-align: right;\n    }\n</style>\n<table border=\"1\" class=\"dataframe\">\n  <thead>\n    <tr style=\"text-align: right;\">\n      <th></th>\n      <th>Unnamed: 0</th>\n      <th>date</th>\n      <th>datatype</th>\n      <th>station</th>\n      <th>attributes</th>\n      <th>value</th>\n      <th>locationid</th>\n      <th>state</th>\n    </tr>\n  </thead>\n  <tbody>\n    <tr>\n      <th>276895</th>\n      <td>734</td>\n      <td>2021-04-30T00:00:00</td>\n      <td>TAVG</td>\n      <td>GHCND:USS0010G20S</td>\n      <td>,,T,</td>\n      <td>89</td>\n      <td>FIPS:56</td>\n      <td>Wyoming</td>\n    </tr>\n    <tr>\n      <th>276896</th>\n      <td>735</td>\n      <td>2021-04-30T00:00:00</td>\n      <td>TAVG</td>\n      <td>GHCND:USS0010G22S</td>\n      <td>,,T,</td>\n      <td>93</td>\n      <td>FIPS:56</td>\n      <td>Wyoming</td>\n    </tr>\n    <tr>\n      <th>276897</th>\n      <td>736</td>\n      <td>2021-04-30T00:00:00</td>\n      <td>TAVG</td>\n      <td>GHCND:USS0010G23S</td>\n      <td>,,T,</td>\n      <td>104</td>\n      <td>FIPS:56</td>\n      <td>Wyoming</td>\n    </tr>\n    <tr>\n      <th>276898</th>\n      <td>737</td>\n      <td>2021-04-30T00:00:00</td>\n      <td>TAVG</td>\n      <td>GHCND:USS0010G24S</td>\n      <td>,,T,</td>\n      <td>103</td>\n      <td>FIPS:56</td>\n      <td>Wyoming</td>\n    </tr>\n    <tr>\n      <th>276899</th>\n      <td>738</td>\n      <td>2021-04-30T00:00:00</td>\n      <td>TAVG</td>\n      <td>GHCND:USS0010G25S</td>\n      <td>,,T,</td>\n      <td>94</td>\n      <td>FIPS:56</td>\n      <td>Wyoming</td>\n    </tr>\n  </tbody>\n</table>\n</div>"
     },
     "metadata": {},
     "execution_count": 19
    }
   ],
   "source": [
    "df.tail()"
   ]
  },
  {
   "cell_type": "code",
   "execution_count": 13,
   "metadata": {},
   "outputs": [
    {
     "output_type": "execute_result",
     "data": {
      "text/plain": [
       "array([',,U,', 'H,,S,', ',,T,', ',G,U,', ',,C,', ',G,T,', ',X,U,'],\n",
       "      dtype=object)"
      ]
     },
     "metadata": {},
     "execution_count": 13
    }
   ],
   "source": [
    "df['attributes'].unique()"
   ]
  },
  {
   "cell_type": "code",
   "execution_count": 16,
   "metadata": {},
   "outputs": [],
   "source": [
    "df = df[df['attributes'] != 'H,,S,']"
   ]
  },
  {
   "cell_type": "code",
   "execution_count": 22,
   "metadata": {},
   "outputs": [
    {
     "output_type": "stream",
     "name": "stdout",
     "text": [
      "Max: 656 \n Min: -733\n"
     ]
    }
   ],
   "source": [
    "print('Max:', df['value'].max(), '\\n', 'Min:', df['value'].min())"
   ]
  },
  {
   "cell_type": "code",
   "execution_count": 25,
   "metadata": {},
   "outputs": [
    {
     "output_type": "execute_result",
     "data": {
      "text/plain": [
       "array([',,U,', ',,T,', ',G,U,', ',X,U,', ',,C,'], dtype=object)"
      ]
     },
     "metadata": {},
     "execution_count": 25
    }
   ],
   "source": [
    "df[df['value']>200]['attributes'].unique()"
   ]
  },
  {
   "cell_type": "code",
   "execution_count": null,
   "metadata": {},
   "outputs": [],
   "source": []
  }
 ]
}