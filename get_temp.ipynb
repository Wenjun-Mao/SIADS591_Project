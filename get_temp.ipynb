{
 "metadata": {
  "language_info": {
   "codemirror_mode": {
    "name": "ipython",
    "version": 3
   },
   "file_extension": ".py",
   "mimetype": "text/x-python",
   "name": "python",
   "nbconvert_exporter": "python",
   "pygments_lexer": "ipython3",
   "version": "3.9.4"
  },
  "orig_nbformat": 2,
  "kernelspec": {
   "name": "python394jvsc74a57bd0557e109ac264cdc2492409c8fa8d58aecf756628952d6e2cb8fcb82be6facdc6",
   "display_name": "Python 3.9.4 64-bit ('myenv01': conda)"
  }
 },
 "nbformat": 4,
 "nbformat_minor": 2,
 "cells": [
  {
   "cell_type": "code",
   "execution_count": null,
   "metadata": {},
   "outputs": [],
   "source": [
    "import requests\n",
    "import json\n",
    "import pandas as pd\n",
    "import numpy as np\n",
    "from datetime import datetime\n",
    "\n",
    "import math"
   ]
  },
  {
   "cell_type": "code",
   "execution_count": null,
   "metadata": {},
   "outputs": [],
   "source": [
    "#add the access token you got from NOAA\n",
    "Token = 'JvgZzITnvipZbRytfbTgJVeCmCvLwhWu'\n",
    "\n",
    "#Long Beach Airport station\n",
    "station_id = 'GHCND:USW00023129'"
   ]
  },
  {
   "cell_type": "code",
   "execution_count": null,
   "metadata": {},
   "outputs": [],
   "source": [
    "baseurl = 'https://www.ncdc.noaa.gov/cdo-web/api/v2/locations'\n",
    "params_diction = {}\n",
    "# params_diction['datasetid'] = 'GHCND'\n",
    "# params_diction['datatypeid'] = 'TAVG'\n",
    "params_diction['limit'] = 1000\n",
    "# params_diction['locationcategoryid'] = 'ST'\n",
    "# params_diction['stationid'] = 'GHCND:USW00023129'\n",
    "# params_diction['startdate'] = '2020-01-01'\n",
    "# params_diction['enddate'] = '2021-05-07'\n",
    "params_diction['offset'] = 1000\n",
    "response = requests.request('GET', baseurl, params=params_diction, headers={'token':Token})"
   ]
  },
  {
   "cell_type": "code",
   "execution_count": null,
   "metadata": {},
   "outputs": [],
   "source": [
    "response.json()['metadata']"
   ]
  },
  {
   "cell_type": "code",
   "execution_count": null,
   "metadata": {},
   "outputs": [],
   "source": [
    "total_location_count = response.json()['metadata']['resultset']['count']\n",
    "total_location_count"
   ]
  },
  {
   "cell_type": "code",
   "execution_count": null,
   "metadata": {},
   "outputs": [],
   "source": [
    "# #initialize dataframe\n",
    "# df_temp = pd.DataFrame()\n",
    "\n",
    "# #populate date and average temperature fields (cast string date to datetime and convert temperature from tenths of Celsius to Fahrenheit)\n",
    "# df_temp['date'] = [datetime.strptime(d, \"%Y-%m-%dT%H:%M:%S\") for d in dates_temp]\n",
    "# df_temp['avgTemp'] = [float(v)/10.0*1.8 + 32 for v in temps]"
   ]
  },
  {
   "source": [
    "# Get all locationid"
   ],
   "cell_type": "markdown",
   "metadata": {}
  },
  {
   "cell_type": "code",
   "execution_count": null,
   "metadata": {},
   "outputs": [],
   "source": [
    "baseurl = 'https://www.ncdc.noaa.gov/cdo-web/api/v2/locations'\n",
    "all_locations_dict = {}\n",
    "for offset in np.arange(0, 38862, 1000): # can use total_location_count to avoid hard coding\n",
    "    params_diction = {}\n",
    "    params_diction['offset'] = offset\n",
    "    params_diction['limit'] = 1000\n",
    "    response = requests.request('GET', baseurl, params=params_diction, headers={'token':Token})\n",
    "    current_dict = json.loads(response.text)\n",
    "    for item in current_dict['results']:\n",
    "        all_locations_dict[item['id']] = item['name']"
   ]
  },
  {
   "cell_type": "code",
   "execution_count": null,
   "metadata": {},
   "outputs": [],
   "source": [
    "len(all_locations_dict)"
   ]
  },
  {
   "cell_type": "code",
   "execution_count": null,
   "metadata": {},
   "outputs": [],
   "source": [
    "df = pd.DataFrame.from_dict([all_locations_dict])\n",
    "df = pd.melt(df)"
   ]
  },
  {
   "cell_type": "code",
   "execution_count": null,
   "metadata": {},
   "outputs": [],
   "source": [
    "df.to_csv('all_locations.csv')"
   ]
  },
  {
   "cell_type": "code",
   "execution_count": null,
   "metadata": {},
   "outputs": [],
   "source": []
  },
  {
   "source": [
    "# Generate the list of all locations and remove ones that returns error \\[400]\n",
    "## It's a manual and iterative process..."
   ],
   "cell_type": "markdown",
   "metadata": {}
  },
  {
   "cell_type": "code",
   "execution_count": null,
   "metadata": {},
   "outputs": [],
   "source": [
    "mylist = ['01', '02', '03', '04', '05', '06', '07', '08', '09']\n",
    "from_ten = list(np.arange(10, 80, 1))\n",
    "from_ten = [str(x) for x in from_ten]\n",
    "mylist.extend(from_ten)\n",
    "mylist = [str(x) for x in mylist]\n",
    "len(mylist)"
   ]
  },
  {
   "cell_type": "code",
   "execution_count": null,
   "metadata": {},
   "outputs": [],
   "source": [
    "# Could turn into a for loop here...\n",
    "mylist.remove('03')\n",
    "mylist.remove('07')\n",
    "mylist.remove('11')\n",
    "mylist.remove('14')\n",
    "mylist.remove('43')\n",
    "mylist.remove('52')\n",
    "mylist.remove('57')\n",
    "mylist.remove('58')\n",
    "mylist.remove('59')\n",
    "mylist.remove('61')\n",
    "mylist.remove('62')\n",
    "mylist.remove('63')\n",
    "mylist.remove('64')\n",
    "mylist.remove('65')\n",
    "mylist.remove('67')\n",
    "mylist.remove('68')\n",
    "mylist.remove('69')\n",
    "mylist.remove('70')\n",
    "mylist.remove('71')\n",
    "mylist.remove('72')\n",
    "mylist.remove('73')\n",
    "mylist.remove('74')\n",
    "mylist.remove('75')\n",
    "mylist.remove('76')\n",
    "mylist.remove('77')\n",
    "mylist.remove('78')\n",
    "\n",
    "len(mylist)"
   ]
  },
  {
   "source": [
    "# For Year 2020\n",
    "## Get number of records per each locationid"
   ],
   "cell_type": "markdown",
   "metadata": {}
  },
  {
   "cell_type": "code",
   "execution_count": null,
   "metadata": {},
   "outputs": [],
   "source": [
    "baseurl = 'https://www.ncdc.noaa.gov/cdo-web/api/v2/data'\n",
    "records_dict = {}\n",
    "for n in mylist:\n",
    "    locationid = f'FIPS:{n}'\n",
    "    print(locationid)\n",
    "    params_diction = {}\n",
    "    params_diction['datasetid'] = 'GHCND'\n",
    "    params_diction['limit'] = 1000\n",
    "    params_diction['datatypeid'] = 'TAVG'\n",
    "\n",
    "    params_diction['locationid']=locationid\n",
    "\n",
    "    params_diction['startdate'] = '2020-01-01'\n",
    "    params_diction['enddate'] = '2020-12-31'\n",
    "    response = requests.request('GET', baseurl, params=params_diction, headers={'token':Token})\n",
    "    current_dict = json.loads(response.text)\n",
    "    number_of_records = current_dict['metadata']['resultset']['count']\n",
    "    records_dict[locationid] = number_of_records"
   ]
  },
  {
   "cell_type": "code",
   "execution_count": null,
   "metadata": {},
   "outputs": [],
   "source": [
    "df_records_dict = pd.DataFrame.from_dict([records_dict])\n",
    "df_records_dict = pd.melt(df_records_dict)\n",
    "len(df_records_dict)"
   ]
  },
  {
   "cell_type": "code",
   "execution_count": null,
   "metadata": {},
   "outputs": [],
   "source": [
    "df_records_dict.to_csv('records_per_loc.csv')"
   ]
  },
  {
   "source": [
    "## Add State name to df"
   ],
   "cell_type": "markdown",
   "metadata": {}
  },
  {
   "cell_type": "code",
   "execution_count": null,
   "metadata": {},
   "outputs": [],
   "source": [
    "df.columns = ['locationid', 'location']\n",
    "df.head()"
   ]
  },
  {
   "cell_type": "code",
   "execution_count": null,
   "metadata": {},
   "outputs": [],
   "source": [
    "df_records_dict.columns = ['locationid', 'location']\n",
    "df_records_dict.head()"
   ]
  },
  {
   "cell_type": "code",
   "execution_count": null,
   "metadata": {},
   "outputs": [],
   "source": [
    "location_df = pd.merge(df_records_dict, df, how='inner', on='locationid')"
   ]
  },
  {
   "cell_type": "code",
   "execution_count": null,
   "metadata": {},
   "outputs": [],
   "source": [
    "location_df.head(20)"
   ]
  },
  {
   "cell_type": "code",
   "execution_count": null,
   "metadata": {},
   "outputs": [],
   "source": [
    "location_df.columns = ['locationid', 'records_count2020', 'states']\n",
    "location_df.head()"
   ]
  },
  {
   "source": [
    "### Get the total number of requests needed.\n",
    "### Turns out 879 requests needed in total"
   ],
   "cell_type": "markdown",
   "metadata": {}
  },
  {
   "cell_type": "code",
   "execution_count": null,
   "metadata": {},
   "outputs": [],
   "source": [
    "location_df['requests_needed'] = (location_df['records_count2020'] / 1000).apply(math.ceil)"
   ]
  },
  {
   "cell_type": "code",
   "execution_count": null,
   "metadata": {},
   "outputs": [],
   "source": [
    "location_df['requests_needed'].sum()"
   ]
  },
  {
   "source": [
    "## Get data for 2020\n",
    "### The limit for daily data is 1 year, so has to split into 2020 and 2021"
   ],
   "cell_type": "markdown",
   "metadata": {}
  },
  {
   "cell_type": "code",
   "execution_count": null,
   "metadata": {},
   "outputs": [],
   "source": [
    "# get data for 2020\n",
    "\n",
    "baseurl = 'https://www.ncdc.noaa.gov/cdo-web/api/v2/data'\n",
    "\n",
    "request_counter = 0\n",
    "\n",
    "for i in range(len(location_df)):\n",
    "    state = location_df.iloc[i]['states']\n",
    "    records_count = location_df.iloc[i]['records_count2020']\n",
    "    locationid = location_df.iloc[i]['locationid']\n",
    "\n",
    "    for offset in np.arange(1, records_count, 1000):\n",
    "        params_diction = {}\n",
    "        params_diction['datasetid'] = 'GHCND'\n",
    "        params_diction['limit'] = 1000\n",
    "        params_diction['datatypeid'] = 'TAVG'\n",
    "        params_diction['locationid']=locationid\n",
    "        params_diction['offset'] = offset\n",
    "        params_diction['startdate'] = '2020-01-01'\n",
    "        params_diction['enddate'] = '2020-12-31'\n",
    "\n",
    "        response = requests.request('GET', baseurl, params=params_diction, headers={'token':Token})\n",
    "\n",
    "        try:\n",
    "            current_dict = json.loads(response.text)\n",
    "            if request_counter==0:\n",
    "                current_ouput = pd.DataFrame(current_dict['results'])\n",
    "                current_ouput['locationid'] = locationid\n",
    "                current_ouput['state'] = state\n",
    "                df_output = current_ouput\n",
    "                print('now running, successed on 1st request')\n",
    "            else:\n",
    "                current_ouput = pd.DataFrame(current_dict['results'])\n",
    "                current_ouput['locationid'] = locationid\n",
    "                current_ouput['state'] = state\n",
    "                df_output = df_output.append(current_ouput)\n",
    "\n",
    "        except:\n",
    "            print(state, offset)\n",
    "\n",
    "        request_counter+=1\n",
    "\n",
    "        if request_counter % 50 == 0:\n",
    "            print(request_counter)"
   ]
  },
  {
   "cell_type": "code",
   "execution_count": null,
   "metadata": {},
   "outputs": [],
   "source": [
    "current_dict['metadata']"
   ]
  },
  {
   "cell_type": "code",
   "execution_count": null,
   "metadata": {},
   "outputs": [],
   "source": [
    "len(df_output)"
   ]
  },
  {
   "cell_type": "code",
   "execution_count": null,
   "metadata": {},
   "outputs": [],
   "source": [
    "df_output.head()"
   ]
  },
  {
   "cell_type": "code",
   "execution_count": null,
   "metadata": {},
   "outputs": [],
   "source": [
    "df_output.tail()"
   ]
  },
  {
   "cell_type": "code",
   "execution_count": null,
   "metadata": {},
   "outputs": [],
   "source": [
    "df_output.to_csv('output20v2.gzip', compression='gzip')\n",
    "# the line below is for use in Colab\n",
    "# !cp output20v2.gzip \"drive/MyDrive\""
   ]
  },
  {
   "source": [
    "# For Year 2021\n",
    "## Get number of records for each location"
   ],
   "cell_type": "markdown",
   "metadata": {}
  },
  {
   "cell_type": "code",
   "execution_count": null,
   "metadata": {},
   "outputs": [],
   "source": [
    "baseurl = 'https://www.ncdc.noaa.gov/cdo-web/api/v2/data'\n",
    "records_dict21 = {}\n",
    "for n in mylist:\n",
    "    locationid = f'FIPS:{n}'\n",
    "    params_diction = {}\n",
    "    params_diction['datasetid'] = 'GHCND'\n",
    "    params_diction['limit'] = 1000\n",
    "    params_diction['datatypeid'] = 'TAVG'\n",
    "    params_diction['locationid']=locationid\n",
    "    params_diction['startdate'] = '2020-01-01'\n",
    "    params_diction['enddate'] = '2020-12-31'\n",
    "    response = requests.request('GET', baseurl, params=params_diction, headers={'token':Token})\n",
    "    current_dict = json.loads(response.text)\n",
    "    number_of_records = current_dict['metadata']['resultset']['count']\n",
    "    records_dict21[locationid] = number_of_records"
   ]
  },
  {
   "cell_type": "code",
   "execution_count": null,
   "metadata": {},
   "outputs": [],
   "source": [
    "df_records_dict21 = pd.DataFrame.from_dict([records_dict21])\n",
    "df_records_dict21 = pd.melt(df_records_dict21)\n",
    "len(df_records_dict21)"
   ]
  },
  {
   "cell_type": "code",
   "execution_count": null,
   "metadata": {},
   "outputs": [],
   "source": [
    "df_records_dict21.head()"
   ]
  },
  {
   "source": [
    "# Add State name to df"
   ],
   "cell_type": "markdown",
   "metadata": {}
  },
  {
   "cell_type": "code",
   "execution_count": null,
   "metadata": {},
   "outputs": [],
   "source": [
    "df_records_dict21.columns = ['locationid', 'location']\n",
    "df_records_dict21.head()"
   ]
  },
  {
   "cell_type": "code",
   "execution_count": null,
   "metadata": {},
   "outputs": [],
   "source": [
    "location_df21 = pd.merge(df_records_dict21, df, how='inner', on='locationid')\n",
    "location_df21.head()"
   ]
  },
  {
   "cell_type": "code",
   "execution_count": null,
   "metadata": {},
   "outputs": [],
   "source": [
    "location_df21.columns = ['locationid', 'records_count2021', 'states']\n",
    "location_df21.head()"
   ]
  },
  {
   "cell_type": "code",
   "execution_count": null,
   "metadata": {},
   "outputs": [],
   "source": [
    "location_df21['requests_needed'] = (location_df21['records_count2021'] / 1000).apply(math.ceil)"
   ]
  },
  {
   "source": [
    "### Only 306 requests this time"
   ],
   "cell_type": "markdown",
   "metadata": {}
  },
  {
   "cell_type": "code",
   "execution_count": null,
   "metadata": {},
   "outputs": [],
   "source": [
    "location_df21['requests_needed'].sum()"
   ]
  },
  {
   "source": [
    "## Get data for 2021"
   ],
   "cell_type": "markdown",
   "metadata": {}
  },
  {
   "cell_type": "code",
   "execution_count": null,
   "metadata": {},
   "outputs": [],
   "source": [
    "# # get data for 2021, Version 1, locally in VS Code\n",
    "# # This wasn't actually tested as I used the 2nd version on Colab\n",
    "# # which doesn't need the \"try\" again thing.\n",
    "# # I think it's just Googles's connection is much better than mine\n",
    "\n",
    "# baseurl = 'https://www.ncdc.noaa.gov/cdo-web/api/v2/data'\n",
    "\n",
    "# df_output21 = df_output.copy()\n",
    "\n",
    "# request_counter = 0\n",
    "\n",
    "# for i in range(len(location_df)):\n",
    "#     state = location_df21.iloc[i]['states']\n",
    "#     records_count = location_df21.iloc[i]['records_count2020']\n",
    "#     locationid = location_df21.iloc[i]['locationid']\n",
    "\n",
    "\n",
    "\n",
    "#     for offset in np.arange(1, records_count, 1000):\n",
    "        \n",
    "#         params_diction = {}\n",
    "#         params_diction['datasetid'] = 'GHCND'\n",
    "#         params_diction['limit'] = 1000\n",
    "#         params_diction['datatypeid'] = 'TAVG'\n",
    "#         params_diction['locationid']=locationid\n",
    "#         params_diction['offset'] = offset\n",
    "#         params_diction['startdate'] = '2021-01-01'\n",
    "#         params_diction['enddate'] = '2021-04-30'\n",
    "\n",
    "#         response = requests.request('GET', baseurl, params=params_diction, headers={'token':Token})\n",
    "        \n",
    "#         try:\n",
    "#             current_dict = json.loads(response.text)\n",
    "#             if request_counter==0:\n",
    "#                 df_output = pd.DataFrame(current_dict['results'])\n",
    "#                 print('now running')\n",
    "#             else:\n",
    "#                 df_output = df_output.append(pd.DataFrame(current_dict['results']))\n",
    "\n",
    "#         except:\n",
    "#             try:\n",
    "#                 print('Try again on:', state, offset)\n",
    "#                 response = requests.request('GET', baseurl, params=params_diction, headers={'token':Token})\n",
    "#                 current_dict = json.loads(response.text)\n",
    "#                 df_output = df_output.append(pd.DataFrame(current_dict['results']))\n",
    "#             except:\n",
    "#                 print('Failed on:', state, offset)\n",
    "\n",
    "#         if request_counter % 50 ==0:\n",
    "#             print(request_counter)"
   ]
  },
  {
   "cell_type": "code",
   "execution_count": null,
   "metadata": {},
   "outputs": [],
   "source": [
    "# get data for 2021, Version 2, was run successfully on Colab\n",
    "\n",
    "baseurl = 'https://www.ncdc.noaa.gov/cdo-web/api/v2/data'\n",
    "\n",
    "request_counter = 0\n",
    "\n",
    "for i in range(len(location_df21)):\n",
    "    state = location_df21.iloc[i]['states']\n",
    "    records_count = location_df21.iloc[i]['records_count2021']\n",
    "    locationid = location_df21.iloc[i]['locationid']\n",
    "\n",
    "    for offset in np.arange(1, records_count, 1000):\n",
    "        \n",
    "        params_diction = {}\n",
    "        params_diction['datasetid'] = 'GHCND'\n",
    "        params_diction['limit'] = 1000\n",
    "        params_diction['datatypeid'] = 'TAVG'\n",
    "        params_diction['locationid']=locationid\n",
    "        params_diction['offset'] = offset\n",
    "        params_diction['startdate'] = '2021-01-01'\n",
    "        params_diction['enddate'] = '2021-04-30'\n",
    "\n",
    "        response = requests.request('GET', baseurl, params=params_diction, headers={'token':Token})\n",
    "        \n",
    "        try:\n",
    "            current_dict = json.loads(response.text)\n",
    "            if request_counter==0:\n",
    "                current_ouput = pd.DataFrame(current_dict['results'])\n",
    "                current_ouput['locationid'] = locationid\n",
    "                current_ouput['state'] = state\n",
    "                df_output21 = current_ouput\n",
    "                print('now running, successed on 1st request')\n",
    "            else:\n",
    "                current_ouput = pd.DataFrame(current_dict['results'])\n",
    "                current_ouput['locationid'] = locationid\n",
    "                current_ouput['state'] = state\n",
    "                df_output21 = df_output21.append(current_ouput)\n",
    "\n",
    "        except:\n",
    "            print(state, offset)\n",
    "\n",
    "        request_counter+=1\n",
    "\n",
    "        if request_counter % 50 == 0:\n",
    "            print(request_counter)"
   ]
  },
  {
   "cell_type": "code",
   "execution_count": null,
   "metadata": {},
   "outputs": [],
   "source": [
    "df_output21.to_csv('output21.gzip', compression='gzip')\n",
    "# the line below is for use in Colab\n",
    "# !cp output21.gzip \"drive/MyDrive\""
   ]
  }
 ]
}