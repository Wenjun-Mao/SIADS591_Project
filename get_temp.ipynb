{
 "metadata": {
  "language_info": {
   "codemirror_mode": {
    "name": "ipython",
    "version": 3
   },
   "file_extension": ".py",
   "mimetype": "text/x-python",
   "name": "python",
   "nbconvert_exporter": "python",
   "pygments_lexer": "ipython3",
   "version": "3.9.4"
  },
  "orig_nbformat": 2,
  "kernelspec": {
   "name": "python394jvsc74a57bd0557e109ac264cdc2492409c8fa8d58aecf756628952d6e2cb8fcb82be6facdc6",
   "display_name": "Python 3.9.4 64-bit ('myenv01': conda)"
  }
 },
 "nbformat": 4,
 "nbformat_minor": 2,
 "cells": [
  {
   "cell_type": "code",
   "execution_count": null,
   "metadata": {},
   "outputs": [],
   "source": [
    "#needed to make web requests\n",
    "import requests\n",
    "#convert the response as a strcuctured json\n",
    "import json\n",
    "\n",
    "import pandas as pd\n",
    "import numpy as np\n",
    "#parse the datetimes we get from NOAA\n",
    "from datetime import datetime"
   ]
  },
  {
   "cell_type": "code",
   "execution_count": null,
   "metadata": {},
   "outputs": [],
   "source": [
    "#add the access token you got from NOAA\n",
    "Token = 'JvgZzITnvipZbRytfbTgJVeCmCvLwhWu'\n",
    "\n",
    "#Long Beach Airport station\n",
    "station_id = 'GHCND:USW00023129'"
   ]
  },
  {
   "cell_type": "code",
   "execution_count": null,
   "metadata": {},
   "outputs": [],
   "source": [
    "\n",
    "#initialize lists to store data\n",
    "dates_temp = []\n",
    "dates_prcp = []\n",
    "temps = []\n",
    "prcp = []\n",
    "\n",
    "#for each year from 2015-2019 ...\n",
    "for year in range(2015, 2020):\n",
    "    year = str(year)\n",
    "    print('working on year '+year)\n",
    "    \n",
    "    #make the api call\n",
    "    r = requests.get('https://www.ncdc.noaa.gov/cdo-web/api/v2/data?datasetid=GHCND&datatypeid=TAVG&limit=1000&stationid=GHCND:USW00023129&startdate='+year+'-01-01&enddate='+year+'-12-31', headers={'token':Token})\n",
    "    #load the api response as a json\n",
    "    d = json.loads(r.text)\n",
    "    #get all items in the response which are average temperature readings\n",
    "    avg_temps = [item for item in d['results'] if item['datatype']=='TAVG']\n",
    "    #get the date field from all average temperature readings\n",
    "    dates_temp += [item['date'] for item in avg_temps]\n",
    "    #get the actual average temperature from all average temperature readings\n",
    "    temps += [item['value'] for item in avg_temps]"
   ]
  },
  {
   "cell_type": "code",
   "execution_count": 108,
   "metadata": {},
   "outputs": [],
   "source": [
    "r = requests.get('https://www.ncdc.noaa.gov/cdo-web/api/v2/data?datasetid=GHCND&datatypeid=TAVG&limit=1000&locationcategoryid=ST&Locations=Alabama&startdate=2020-01-01&enddate=2020-01-01', headers={'token':Token})"
   ]
  },
  {
   "cell_type": "code",
   "execution_count": 109,
   "metadata": {},
   "outputs": [],
   "source": [
    "d = json.loads(r.text)"
   ]
  },
  {
   "cell_type": "code",
   "execution_count": 110,
   "metadata": {},
   "outputs": [
    {
     "output_type": "execute_result",
     "data": {
      "text/plain": [
       "1000"
      ]
     },
     "metadata": {},
     "execution_count": 110
    }
   ],
   "source": [
    "len(d['results'])"
   ]
  },
  {
   "cell_type": "code",
   "execution_count": null,
   "metadata": {},
   "outputs": [],
   "source": [
    "def get_temperature():\n",
    "    baseurl = 'https://www.ncdc.noaa.gov/cdo-web/api/v2/data'\n",
    "    params_diction = {}\n",
    "    params_diction['datasetid'] = 'GHCND'\n",
    "    params_diction['datatypeid'] = 'TAVG'\n",
    "    params_diction['limit'] = 1000\n",
    "    params_diction['locationcategoryid'] = 'ST'\n",
    "    params_diction['startdate'] = '2020-01-01'\n",
    "    params_diction['enddate'] = '2021-05-07'\n",
    "    response = requests.request('GET', baseurl, params=params_diction, headers={'token':Token})\n",
    "    temperature_dict = response.json()\n",
    "    return temperature_dict"
   ]
  },
  {
   "cell_type": "code",
   "execution_count": 112,
   "metadata": {},
   "outputs": [],
   "source": [
    "baseurl = 'https://www.ncdc.noaa.gov/cdo-web/api/v2/locations'\n",
    "params_diction = {}\n",
    "# params_diction['datasetid'] = 'GHCND'\n",
    "# params_diction['datatypeid'] = 'TAVG'\n",
    "params_diction['limit'] = 1000\n",
    "# params_diction['locationcategoryid'] = 'ST'\n",
    "# params_diction['stationid'] = 'GHCND:USW00023129'\n",
    "# params_diction['startdate'] = '2020-01-01'\n",
    "# params_diction['enddate'] = '2021-05-07'\n",
    "params_diction['offset'] = 1000\n",
    "response = requests.request('GET', baseurl, params=params_diction, headers={'token':Token})"
   ]
  },
  {
   "cell_type": "code",
   "execution_count": 113,
   "metadata": {},
   "outputs": [
    {
     "output_type": "execute_result",
     "data": {
      "text/plain": [
       "'https://www.ncdc.noaa.gov/cdo-web/api/v2/locations?offset=1000'"
      ]
     },
     "metadata": {},
     "execution_count": 113
    }
   ],
   "source": [
    "response.url"
   ]
  },
  {
   "cell_type": "code",
   "execution_count": 125,
   "metadata": {},
   "outputs": [
    {
     "output_type": "execute_result",
     "data": {
      "text/plain": [
       "array([    0,  1000,  2000,  3000,  4000,  5000,  6000,  7000,  8000,\n",
       "        9000, 10000, 11000, 12000, 13000, 14000, 15000, 16000, 17000,\n",
       "       18000, 19000, 20000, 21000, 22000, 23000, 24000, 25000, 26000,\n",
       "       27000, 28000, 29000, 30000, 31000, 32000, 33000, 34000, 35000,\n",
       "       36000, 37000, 38000])"
      ]
     },
     "metadata": {},
     "execution_count": 125
    }
   ],
   "source": [
    "np.arange(0, 38862, 1000)"
   ]
  },
  {
   "cell_type": "code",
   "execution_count": 126,
   "metadata": {},
   "outputs": [],
   "source": [
    "def Merge(dict1, dict2):\n",
    "    return(dict2.update(dict1))"
   ]
  },
  {
   "cell_type": "code",
   "execution_count": 130,
   "metadata": {},
   "outputs": [],
   "source": [
    "demo_dict = {}\n",
    "offset = 0\n",
    "params_diction = {}\n",
    "params_diction['offset'] = offset\n",
    "response = requests.request('GET', baseurl, params=params_diction, headers={'token':Token})\n",
    "current_dict = json.loads(response.text)"
   ]
  },
  {
   "cell_type": "code",
   "execution_count": 136,
   "metadata": {},
   "outputs": [],
   "source": [
    "d = {}\n",
    "for item in current_dict['results']:\n",
    "    d[item['name']] = item['id']"
   ]
  },
  {
   "cell_type": "code",
   "execution_count": 137,
   "metadata": {},
   "outputs": [
    {
     "output_type": "execute_result",
     "data": {
      "text/plain": [
       "{'Abu Dhabi, AE': 'CITY:AE000001',\n",
       " 'Ajman, AE': 'CITY:AE000002',\n",
       " 'Dubai, AE': 'CITY:AE000003',\n",
       " 'Sharjah, AE': 'CITY:AE000006',\n",
       " 'Kabul, AF': 'CITY:AF000007',\n",
       " 'Kandahar, AF': 'CITY:AF000008',\n",
       " 'Algiers, AG': 'CITY:AG000001',\n",
       " 'Annaba, AG': 'CITY:AG000002',\n",
       " 'Batna, AG': 'CITY:AG000003',\n",
       " 'Bechar, AG': 'CITY:AG000004',\n",
       " 'Bejaia, AG': 'CITY:AG000005',\n",
       " 'Constantine, AG': 'CITY:AG000006',\n",
       " 'Guelma, AG': 'CITY:AG000007',\n",
       " 'Laghouat, AG': 'CITY:AG000008',\n",
       " 'Medea, AG': 'CITY:AG000009',\n",
       " 'Mostaganem, AG': 'CITY:AG000010',\n",
       " 'Oran, AG': 'CITY:AG000011',\n",
       " 'Oum el Bouaghi, AG': 'CITY:AG000012',\n",
       " 'Saida, AG': 'CITY:AG000013',\n",
       " 'Sidi-Bel-Abbes, AG': 'CITY:AG000014',\n",
       " 'Skikda, AG': 'CITY:AG000015',\n",
       " 'Tamanrasset, AG': 'CITY:AG000016',\n",
       " 'Tlemcen, AG': 'CITY:AG000017',\n",
       " 'Baku, AJ': 'CITY:AJ000001',\n",
       " 'Naxcivian, AJ': 'CITY:AJ000002'}"
      ]
     },
     "metadata": {},
     "execution_count": 137
    }
   ],
   "source": [
    "d"
   ]
  },
  {
   "cell_type": "code",
   "execution_count": 141,
   "metadata": {},
   "outputs": [],
   "source": [
    "baseurl = 'https://www.ncdc.noaa.gov/cdo-web/api/v2/locations'\n",
    "all_locations_dict = {}\n",
    "for offset in np.arange(0, 38862, 1000):\n",
    "    params_diction = {}\n",
    "    params_diction['offset'] = offset\n",
    "    params_diction['limit'] = 1000\n",
    "    response = requests.request('GET', baseurl, params=params_diction, headers={'token':Token})\n",
    "    current_dict = json.loads(response.text)\n",
    "    for item in current_dict['results']:\n",
    "        all_locations_dict[item['id']] = item['name']"
   ]
  },
  {
   "cell_type": "code",
   "execution_count": 152,
   "metadata": {},
   "outputs": [
    {
     "output_type": "execute_result",
     "data": {
      "text/plain": [
       "38862"
      ]
     },
     "metadata": {},
     "execution_count": 152
    }
   ],
   "source": [
    "len(all_locations_dict)"
   ]
  },
  {
   "cell_type": "code",
   "execution_count": 147,
   "metadata": {},
   "outputs": [],
   "source": [
    "df = pd.DataFrame.from_dict([all_locations_dict])"
   ]
  },
  {
   "cell_type": "code",
   "execution_count": 148,
   "metadata": {},
   "outputs": [
    {
     "output_type": "execute_result",
     "data": {
      "text/plain": [
       "   CITY:AE000001 CITY:AE000002 CITY:AE000003 CITY:AE000006 CITY:AF000007  \\\n",
       "0  Abu Dhabi, AE     Ajman, AE     Dubai, AE   Sharjah, AE     Kabul, AF   \n",
       "\n",
       "  CITY:AF000008 CITY:AG000001 CITY:AG000002 CITY:AG000003 CITY:AG000004  ...  \\\n",
       "0  Kandahar, AF   Algiers, AG    Annaba, AG     Batna, AG    Bechar, AG  ...   \n",
       "\n",
       "             ZIP:99901             ZIP:99919        ZIP:99921  \\\n",
       "0  Ketchikan, AK 99901  Thorne Bay, AK 99919  Craig, AK 99921   \n",
       "\n",
       "            ZIP:99922        ZIP:99923          ZIP:99925  \\\n",
       "0  Hydaburg, AK 99922  Hyder, AK 99923  Klawock, AK 99925   \n",
       "\n",
       "              ZIP:99926              ZIP:99927           ZIP:99929  \\\n",
       "0  Metlakatla, AK 99926  Point Baker, AK 99927  Wrangell, AK 99929   \n",
       "\n",
       "             ZIP:99950  \n",
       "0  Ketchikan, AK 99950  \n",
       "\n",
       "[1 rows x 38862 columns]"
      ],
      "text/html": "<div>\n<style scoped>\n    .dataframe tbody tr th:only-of-type {\n        vertical-align: middle;\n    }\n\n    .dataframe tbody tr th {\n        vertical-align: top;\n    }\n\n    .dataframe thead th {\n        text-align: right;\n    }\n</style>\n<table border=\"1\" class=\"dataframe\">\n  <thead>\n    <tr style=\"text-align: right;\">\n      <th></th>\n      <th>CITY:AE000001</th>\n      <th>CITY:AE000002</th>\n      <th>CITY:AE000003</th>\n      <th>CITY:AE000006</th>\n      <th>CITY:AF000007</th>\n      <th>CITY:AF000008</th>\n      <th>CITY:AG000001</th>\n      <th>CITY:AG000002</th>\n      <th>CITY:AG000003</th>\n      <th>CITY:AG000004</th>\n      <th>...</th>\n      <th>ZIP:99901</th>\n      <th>ZIP:99919</th>\n      <th>ZIP:99921</th>\n      <th>ZIP:99922</th>\n      <th>ZIP:99923</th>\n      <th>ZIP:99925</th>\n      <th>ZIP:99926</th>\n      <th>ZIP:99927</th>\n      <th>ZIP:99929</th>\n      <th>ZIP:99950</th>\n    </tr>\n  </thead>\n  <tbody>\n    <tr>\n      <th>0</th>\n      <td>Abu Dhabi, AE</td>\n      <td>Ajman, AE</td>\n      <td>Dubai, AE</td>\n      <td>Sharjah, AE</td>\n      <td>Kabul, AF</td>\n      <td>Kandahar, AF</td>\n      <td>Algiers, AG</td>\n      <td>Annaba, AG</td>\n      <td>Batna, AG</td>\n      <td>Bechar, AG</td>\n      <td>...</td>\n      <td>Ketchikan, AK 99901</td>\n      <td>Thorne Bay, AK 99919</td>\n      <td>Craig, AK 99921</td>\n      <td>Hydaburg, AK 99922</td>\n      <td>Hyder, AK 99923</td>\n      <td>Klawock, AK 99925</td>\n      <td>Metlakatla, AK 99926</td>\n      <td>Point Baker, AK 99927</td>\n      <td>Wrangell, AK 99929</td>\n      <td>Ketchikan, AK 99950</td>\n    </tr>\n  </tbody>\n</table>\n<p>1 rows × 38862 columns</p>\n</div>"
     },
     "metadata": {},
     "execution_count": 148
    }
   ],
   "source": [
    "df.head()"
   ]
  },
  {
   "cell_type": "code",
   "execution_count": 150,
   "metadata": {},
   "outputs": [],
   "source": [
    "df = pd.melt(df)\n"
   ]
  },
  {
   "cell_type": "code",
   "execution_count": 151,
   "metadata": {},
   "outputs": [
    {
     "output_type": "execute_result",
     "data": {
      "text/plain": [
       "            variable                  value\n",
       "0      CITY:AE000001          Abu Dhabi, AE\n",
       "1      CITY:AE000002              Ajman, AE\n",
       "2      CITY:AE000003              Dubai, AE\n",
       "3      CITY:AE000006            Sharjah, AE\n",
       "4      CITY:AF000007              Kabul, AF\n",
       "...              ...                    ...\n",
       "38857      ZIP:99925      Klawock, AK 99925\n",
       "38858      ZIP:99926   Metlakatla, AK 99926\n",
       "38859      ZIP:99927  Point Baker, AK 99927\n",
       "38860      ZIP:99929     Wrangell, AK 99929\n",
       "38861      ZIP:99950    Ketchikan, AK 99950\n",
       "\n",
       "[38862 rows x 2 columns]"
      ],
      "text/html": "<div>\n<style scoped>\n    .dataframe tbody tr th:only-of-type {\n        vertical-align: middle;\n    }\n\n    .dataframe tbody tr th {\n        vertical-align: top;\n    }\n\n    .dataframe thead th {\n        text-align: right;\n    }\n</style>\n<table border=\"1\" class=\"dataframe\">\n  <thead>\n    <tr style=\"text-align: right;\">\n      <th></th>\n      <th>variable</th>\n      <th>value</th>\n    </tr>\n  </thead>\n  <tbody>\n    <tr>\n      <th>0</th>\n      <td>CITY:AE000001</td>\n      <td>Abu Dhabi, AE</td>\n    </tr>\n    <tr>\n      <th>1</th>\n      <td>CITY:AE000002</td>\n      <td>Ajman, AE</td>\n    </tr>\n    <tr>\n      <th>2</th>\n      <td>CITY:AE000003</td>\n      <td>Dubai, AE</td>\n    </tr>\n    <tr>\n      <th>3</th>\n      <td>CITY:AE000006</td>\n      <td>Sharjah, AE</td>\n    </tr>\n    <tr>\n      <th>4</th>\n      <td>CITY:AF000007</td>\n      <td>Kabul, AF</td>\n    </tr>\n    <tr>\n      <th>...</th>\n      <td>...</td>\n      <td>...</td>\n    </tr>\n    <tr>\n      <th>38857</th>\n      <td>ZIP:99925</td>\n      <td>Klawock, AK 99925</td>\n    </tr>\n    <tr>\n      <th>38858</th>\n      <td>ZIP:99926</td>\n      <td>Metlakatla, AK 99926</td>\n    </tr>\n    <tr>\n      <th>38859</th>\n      <td>ZIP:99927</td>\n      <td>Point Baker, AK 99927</td>\n    </tr>\n    <tr>\n      <th>38860</th>\n      <td>ZIP:99929</td>\n      <td>Wrangell, AK 99929</td>\n    </tr>\n    <tr>\n      <th>38861</th>\n      <td>ZIP:99950</td>\n      <td>Ketchikan, AK 99950</td>\n    </tr>\n  </tbody>\n</table>\n<p>38862 rows × 2 columns</p>\n</div>"
     },
     "metadata": {},
     "execution_count": 151
    }
   ],
   "source": [
    "df"
   ]
  },
  {
   "cell_type": "code",
   "execution_count": 122,
   "metadata": {},
   "outputs": [],
   "source": [
    "d = response.json()"
   ]
  },
  {
   "cell_type": "code",
   "execution_count": 123,
   "metadata": {},
   "outputs": [
    {
     "output_type": "execute_result",
     "data": {
      "text/plain": [
       "{'resultset': {'offset': 1000, 'count': 38862, 'limit': 25}}"
      ]
     },
     "metadata": {},
     "execution_count": 123
    }
   ],
   "source": [
    "d['metadata']"
   ]
  },
  {
   "cell_type": "code",
   "execution_count": 121,
   "metadata": {},
   "outputs": [
    {
     "output_type": "execute_result",
     "data": {
      "text/plain": [
       "dict_keys(['metadata', 'results'])"
      ]
     },
     "metadata": {},
     "execution_count": 121
    }
   ],
   "source": [
    "d.keys()"
   ]
  },
  {
   "source": [
    "The base request looks like:\n",
    "https://www.ncdc.noaa.gov/cdo-web/api/v2/data?\n",
    "\n",
    "After the question mark, ‘?’, we will need to put all the options specifying the exact data we are looking for. These will include:\n",
    "\n",
    "datasetid, which for us will be GHCND (Global Historical Climatology Network Daily).\n",
    "\n",
    "datatypeid, which is a list of the variables we are after. For us, that will be TAVG (average temperature)\n",
    "\n",
    "limit, specifying the maximum number of items to include in the response. The default is 25 and the maximum is 1000, which is what we will set.\n",
    "\n",
    "stationid, specifying which station(s) we would like data from. Our station id is GHCND:USW00023129\n",
    "\n",
    "startdate and enddate, specifying the date range we wish to get data from. We will be calling the API once for each year because 1000 items is not enough for our full 3.5 year date range from 2015 until now.\n",
    "\n",
    "In all, our first request for all data in 2015 will look like this:\n",
    "\n",
    "https://www.ncdc.noaa.gov/cdo-web/api/v2/data?datasetid=GHCND&datatypeid=TAVG&limit=1000&stationid=GHCND:USW00023129&startdate=2015-01-01&enddate=2015-12-31"
   ],
   "cell_type": "markdown",
   "metadata": {}
  },
  {
   "cell_type": "code",
   "execution_count": null,
   "metadata": {},
   "outputs": [],
   "source": [
    "#initialize dataframe\n",
    "df_temp = pd.DataFrame()\n",
    "\n",
    "#populate date and average temperature fields (cast string date to datetime and convert temperature from tenths of Celsius to Fahrenheit)\n",
    "df_temp['date'] = [datetime.strptime(d, \"%Y-%m-%dT%H:%M:%S\") for d in dates_temp]\n",
    "df_temp['avgTemp'] = [float(v)/10.0*1.8 + 32 for v in temps]"
   ]
  },
  {
   "cell_type": "code",
   "execution_count": null,
   "metadata": {},
   "outputs": [],
   "source": [
    "df_temp"
   ]
  },
  {
   "cell_type": "code",
   "execution_count": null,
   "metadata": {},
   "outputs": [],
   "source": []
  }
 ]
}