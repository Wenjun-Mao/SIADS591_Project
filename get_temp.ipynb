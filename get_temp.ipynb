{
 "metadata": {
  "language_info": {
   "codemirror_mode": {
    "name": "ipython",
    "version": 3
   },
   "file_extension": ".py",
   "mimetype": "text/x-python",
   "name": "python",
   "nbconvert_exporter": "python",
   "pygments_lexer": "ipython3",
   "version": "3.9.4"
  },
  "orig_nbformat": 2,
  "kernelspec": {
   "name": "python394jvsc74a57bd0557e109ac264cdc2492409c8fa8d58aecf756628952d6e2cb8fcb82be6facdc6",
   "display_name": "Python 3.9.4 64-bit ('myenv01': conda)"
  }
 },
 "nbformat": 4,
 "nbformat_minor": 2,
 "cells": [
  {
   "cell_type": "code",
   "execution_count": null,
   "metadata": {},
   "outputs": [],
   "source": [
    "#needed to make web requests\n",
    "import requests\n",
    "#convert the response as a strcuctured json\n",
    "import json\n",
    "\n",
    "import pandas as pd\n",
    "import numpy as np\n",
    "#parse the datetimes we get from NOAA\n",
    "from datetime import datetime"
   ]
  },
  {
   "cell_type": "code",
   "execution_count": null,
   "metadata": {},
   "outputs": [],
   "source": [
    "#add the access token you got from NOAA\n",
    "Token = 'JvgZzITnvipZbRytfbTgJVeCmCvLwhWu'\n",
    "\n",
    "#Long Beach Airport station\n",
    "station_id = 'GHCND:USW00023129'"
   ]
  },
  {
   "cell_type": "code",
   "execution_count": null,
   "metadata": {},
   "outputs": [],
   "source": [
    "\n",
    "#initialize lists to store data\n",
    "dates_temp = []\n",
    "dates_prcp = []\n",
    "temps = []\n",
    "prcp = []\n",
    "\n",
    "#for each year from 2015-2019 ...\n",
    "for year in range(2015, 2020):\n",
    "    year = str(year)\n",
    "    print('working on year '+year)\n",
    "    \n",
    "    #make the api call\n",
    "    r = requests.get('https://www.ncdc.noaa.gov/cdo-web/api/v2/data?datasetid=GHCND&datatypeid=TAVG&limit=1000&stationid=GHCND:USW00023129&startdate='+year+'-01-01&enddate='+year+'-12-31', headers={'token':Token})\n",
    "    #load the api response as a json\n",
    "    d = json.loads(r.text)\n",
    "    #get all items in the response which are average temperature readings\n",
    "    avg_temps = [item for item in d['results'] if item['datatype']=='TAVG']\n",
    "    #get the date field from all average temperature readings\n",
    "    dates_temp += [item['date'] for item in avg_temps]\n",
    "    #get the actual average temperature from all average temperature readings\n",
    "    temps += [item['value'] for item in avg_temps]"
   ]
  },
  {
   "cell_type": "code",
   "execution_count": null,
   "metadata": {},
   "outputs": [],
   "source": [
    "r = requests.get('https://www.ncdc.noaa.gov/cdo-web/api/v2/data?datasetid=GHCND&datatypeid=TAVG&limit=1000&locationcategoryid=ST&Locations=Alabama&startdate=2020-01-01&enddate=2020-01-01', headers={'token':Token})"
   ]
  },
  {
   "cell_type": "code",
   "execution_count": null,
   "metadata": {},
   "outputs": [],
   "source": [
    "d = json.loads(r.text)"
   ]
  },
  {
   "cell_type": "code",
   "execution_count": null,
   "metadata": {},
   "outputs": [],
   "source": [
    "len(d['results'])"
   ]
  },
  {
   "cell_type": "code",
   "execution_count": null,
   "metadata": {},
   "outputs": [],
   "source": [
    "def get_temperature():\n",
    "    baseurl = 'https://www.ncdc.noaa.gov/cdo-web/api/v2/data'\n",
    "    params_diction = {}\n",
    "    params_diction['datasetid'] = 'GHCND'\n",
    "    params_diction['datatypeid'] = 'TAVG'\n",
    "    params_diction['limit'] = 1000\n",
    "    params_diction['locationcategoryid'] = 'ST'\n",
    "    params_diction['startdate'] = '2020-01-01'\n",
    "    params_diction['enddate'] = '2021-05-07'\n",
    "    response = requests.request('GET', baseurl, params=params_diction, headers={'token':Token})\n",
    "    temperature_dict = response.json()\n",
    "    return temperature_dict"
   ]
  },
  {
   "cell_type": "code",
   "execution_count": null,
   "metadata": {},
   "outputs": [],
   "source": [
    "baseurl = 'https://www.ncdc.noaa.gov/cdo-web/api/v2/locations'\n",
    "params_diction = {}\n",
    "# params_diction['datasetid'] = 'GHCND'\n",
    "# params_diction['datatypeid'] = 'TAVG'\n",
    "params_diction['limit'] = 1000\n",
    "# params_diction['locationcategoryid'] = 'ST'\n",
    "# params_diction['stationid'] = 'GHCND:USW00023129'\n",
    "# params_diction['startdate'] = '2020-01-01'\n",
    "# params_diction['enddate'] = '2021-05-07'\n",
    "params_diction['offset'] = 1000\n",
    "response = requests.request('GET', baseurl, params=params_diction, headers={'token':Token})"
   ]
  },
  {
   "cell_type": "code",
   "execution_count": null,
   "metadata": {},
   "outputs": [],
   "source": [
    "response.url"
   ]
  },
  {
   "cell_type": "code",
   "execution_count": null,
   "metadata": {},
   "outputs": [],
   "source": [
    "np.arange(0, 38862, 1000)"
   ]
  },
  {
   "cell_type": "code",
   "execution_count": null,
   "metadata": {},
   "outputs": [],
   "source": [
    "def Merge(dict1, dict2):\n",
    "    return(dict2.update(dict1))"
   ]
  },
  {
   "cell_type": "code",
   "execution_count": null,
   "metadata": {},
   "outputs": [],
   "source": [
    "demo_dict = {}\n",
    "offset = 0\n",
    "params_diction = {}\n",
    "params_diction['offset'] = offset\n",
    "response = requests.request('GET', baseurl, params=params_diction, headers={'token':Token})\n",
    "current_dict = json.loads(response.text)"
   ]
  },
  {
   "cell_type": "code",
   "execution_count": null,
   "metadata": {},
   "outputs": [],
   "source": [
    "d = {}\n",
    "for item in current_dict['results']:\n",
    "    d[item['name']] = item['id']"
   ]
  },
  {
   "cell_type": "code",
   "execution_count": null,
   "metadata": {},
   "outputs": [],
   "source": [
    "d"
   ]
  },
  {
   "cell_type": "code",
   "execution_count": null,
   "metadata": {},
   "outputs": [],
   "source": [
    "#initialize dataframe\n",
    "df_temp = pd.DataFrame()\n",
    "\n",
    "#populate date and average temperature fields (cast string date to datetime and convert temperature from tenths of Celsius to Fahrenheit)\n",
    "df_temp['date'] = [datetime.strptime(d, \"%Y-%m-%dT%H:%M:%S\") for d in dates_temp]\n",
    "df_temp['avgTemp'] = [float(v)/10.0*1.8 + 32 for v in temps]"
   ]
  },
  {
   "source": [
    "# Get all locationid"
   ],
   "cell_type": "markdown",
   "metadata": {}
  },
  {
   "cell_type": "code",
   "execution_count": null,
   "metadata": {},
   "outputs": [],
   "source": [
    "baseurl = 'https://www.ncdc.noaa.gov/cdo-web/api/v2/locations'\n",
    "all_locations_dict = {}\n",
    "for offset in np.arange(0, 38862, 1000):\n",
    "    params_diction = {}\n",
    "    params_diction['offset'] = offset\n",
    "    params_diction['limit'] = 1000\n",
    "    response = requests.request('GET', baseurl, params=params_diction, headers={'token':Token})\n",
    "    current_dict = json.loads(response.text)\n",
    "    for item in current_dict['results']:\n",
    "        all_locations_dict[item['id']] = item['name']"
   ]
  },
  {
   "cell_type": "code",
   "execution_count": null,
   "metadata": {},
   "outputs": [],
   "source": [
    "len(all_locations_dict)"
   ]
  },
  {
   "cell_type": "code",
   "execution_count": null,
   "metadata": {},
   "outputs": [],
   "source": [
    "df = pd.DataFrame.from_dict([all_locations_dict])"
   ]
  },
  {
   "cell_type": "code",
   "execution_count": null,
   "metadata": {},
   "outputs": [],
   "source": [
    "df = pd.melt(df)"
   ]
  },
  {
   "cell_type": "code",
   "execution_count": null,
   "metadata": {},
   "outputs": [],
   "source": [
    "df.to_excel('all_locations.xlsx')"
   ]
  },
  {
   "cell_type": "code",
   "execution_count": null,
   "metadata": {},
   "outputs": [],
   "source": []
  },
  {
   "source": [
    "# Get number of records per each locationid"
   ],
   "cell_type": "markdown",
   "metadata": {}
  },
  {
   "cell_type": "code",
   "execution_count": null,
   "metadata": {},
   "outputs": [],
   "source": [
    "mylist = ['01', '02', '03', '04', '05', '06', '07', '08', '09']\n",
    "from_ten = list(np.arange(10, 80, 1))\n",
    "from_ten = [str(x) for x in from_ten]\n",
    "mylist.extend(from_ten)\n",
    "mylist = [str(x) for x in mylist]\n",
    "len(mylist)"
   ]
  },
  {
   "cell_type": "code",
   "execution_count": null,
   "metadata": {},
   "outputs": [],
   "source": [
    "mylist.remove('03')\n",
    "mylist.remove('07')\n",
    "mylist.remove('11')\n",
    "mylist.remove('14')\n",
    "mylist.remove('43')\n",
    "mylist.remove('52')\n",
    "mylist.remove('57')\n",
    "mylist.remove('58')\n",
    "mylist.remove('59')\n",
    "mylist.remove('61')\n",
    "mylist.remove('62')\n",
    "mylist.remove('63')\n",
    "mylist.remove('64')\n",
    "mylist.remove('65')\n",
    "mylist.remove('67')\n",
    "mylist.remove('68')\n",
    "mylist.remove('69')\n",
    "mylist.remove('70')\n",
    "mylist.remove('71')\n",
    "mylist.remove('72')\n",
    "mylist.remove('73')\n",
    "mylist.remove('74')\n",
    "mylist.remove('75')\n",
    "mylist.remove('76')\n",
    "mylist.remove('77')\n",
    "mylist.remove('78')\n",
    "\n",
    "\n",
    "len(mylist)"
   ]
  },
  {
   "cell_type": "code",
   "execution_count": null,
   "metadata": {},
   "outputs": [],
   "source": [
    "baseurl = 'https://www.ncdc.noaa.gov/cdo-web/api/v2/data'\n",
    "records_dict = {}\n",
    "for n in mylist:\n",
    "    locationid = f'FIPS:{n}'\n",
    "    print(locationid)\n",
    "    params_diction = {}\n",
    "    params_diction['datasetid'] = 'GHCND'\n",
    "    params_diction['limit'] = 1000\n",
    "    params_diction['datatypeid'] = 'TAVG'\n",
    "\n",
    "    params_diction['locationid']=locationid\n",
    "\n",
    "    params_diction['startdate'] = '2020-01-01'\n",
    "    params_diction['enddate'] = '2020-12-31'\n",
    "    response = requests.request('GET', baseurl, params=params_diction, headers={'token':Token})\n",
    "    current_dict = json.loads(response.text)\n",
    "    number_of_records = current_dict['metadata']['resultset']['count']\n",
    "    records_dict[locationid] = number_of_records"
   ]
  },
  {
   "cell_type": "code",
   "execution_count": null,
   "metadata": {},
   "outputs": [],
   "source": [
    "df_records_dict = pd.DataFrame.from_dict([records_dict])"
   ]
  },
  {
   "cell_type": "code",
   "execution_count": null,
   "metadata": {},
   "outputs": [],
   "source": [
    "df_records_dict = pd.melt(df_records_dict)\n",
    "len(df_records_dict)"
   ]
  },
  {
   "cell_type": "code",
   "execution_count": null,
   "metadata": {},
   "outputs": [],
   "source": [
    "df_records_dict.to_csv('records_per_loc.csv')"
   ]
  },
  {
   "cell_type": "code",
   "execution_count": null,
   "metadata": {},
   "outputs": [],
   "source": [
    "df.head()"
   ]
  },
  {
   "cell_type": "code",
   "execution_count": null,
   "metadata": {},
   "outputs": [],
   "source": [
    "df.columns = ['locationid', 'location']\n",
    "df.head()"
   ]
  },
  {
   "cell_type": "code",
   "execution_count": null,
   "metadata": {},
   "outputs": [],
   "source": [
    "df_records_dict.columns = ['locationid', 'location']\n",
    "df_records_dict.head()"
   ]
  },
  {
   "cell_type": "code",
   "execution_count": null,
   "metadata": {},
   "outputs": [],
   "source": [
    "location_df = pd.merge(df_records_dict, df, how='inner', on='locationid')\n",
    "location_df.head()"
   ]
  },
  {
   "cell_type": "code",
   "execution_count": null,
   "metadata": {},
   "outputs": [],
   "source": [
    "location_df.columns = ['locationid', 'records_count', 'state']\n",
    "location_df.head()"
   ]
  },
  {
   "cell_type": "code",
   "execution_count": null,
   "metadata": {},
   "outputs": [],
   "source": [
    "for i in range(len(location_df)):\n",
    "    print(location_df.iloc[i]['records_count'])"
   ]
  },
  {
   "cell_type": "code",
   "execution_count": 379,
   "metadata": {},
   "outputs": [
    {
     "output_type": "stream",
     "name": "stdout",
     "text": [
      "Alabama\n",
      "Alabama\n",
      "Alabama\n",
      "Alabama\n",
      "Alabama\n"
     ]
    }
   ],
   "source": [
    "baseurl = 'https://www.ncdc.noaa.gov/cdo-web/api/v2/data'\n",
    "\n",
    "i = 0\n",
    "offset = 1000\n",
    "\n",
    "state = location_df.iloc[i]['state']\n",
    "records_count = location_df.iloc[i]['records_count']\n",
    "locationid = location_df.iloc[i]['locationid']\n",
    "\n",
    "df_output = pd.DataFrame()\n",
    "\n",
    "for offset in np.arange(1, records_count, 1000):\n",
    "    print(state)\n",
    "    params_diction = {}\n",
    "    params_diction['datasetid'] = 'GHCND'\n",
    "    params_diction['limit'] = 1000\n",
    "    params_diction['datatypeid'] = 'TAVG'\n",
    "\n",
    "    params_diction['locationid']=locationid\n",
    "\n",
    "    params_diction['offset'] = offset\n",
    "\n",
    "    params_diction['startdate'] = '2020-01-01'\n",
    "    params_diction['enddate'] = '2020-12-31'\n",
    "\n",
    "    response = requests.request('GET', baseurl, params=params_diction, headers={'token':Token})\n",
    "    current_dict = json.loads(response.text)\n",
    "\n",
    "    for item in current_dict['results']:\n",
    "        df_temporary = pd.DataFrame([item])\n",
    "        df_output = df_output.append(df_temporary)"
   ]
  },
  {
   "cell_type": "code",
   "execution_count": 380,
   "metadata": {},
   "outputs": [
    {
     "output_type": "execute_result",
     "data": {
      "text/plain": [
       "{'resultset': {'offset': 4001, 'count': 4758, 'limit': 1000}}"
      ]
     },
     "metadata": {},
     "execution_count": 380
    }
   ],
   "source": [
    "current_dict['metadata']"
   ]
  },
  {
   "cell_type": "code",
   "execution_count": 381,
   "metadata": {},
   "outputs": [
    {
     "output_type": "execute_result",
     "data": {
      "text/plain": [
       "4758"
      ]
     },
     "metadata": {},
     "execution_count": 381
    }
   ],
   "source": [
    "len(df_output)"
   ]
  },
  {
   "cell_type": "code",
   "execution_count": 382,
   "metadata": {},
   "outputs": [
    {
     "output_type": "execute_result",
     "data": {
      "text/plain": [
       "                  date datatype            station attributes  value\n",
       "0  2020-01-01T00:00:00     TAVG  GHCND:USR0000ABAN       ,,U,     72\n",
       "0  2020-01-01T00:00:00     TAVG  GHCND:USR0000ABNS       ,,U,    135\n",
       "0  2020-01-01T00:00:00     TAVG  GHCND:USR0000ALIR       ,,U,     38\n",
       "0  2020-01-01T00:00:00     TAVG  GHCND:USR0000AOKM       ,,U,     66\n",
       "0  2020-01-01T00:00:00     TAVG  GHCND:USR0000AOPE       ,,U,    102"
      ],
      "text/html": "<div>\n<style scoped>\n    .dataframe tbody tr th:only-of-type {\n        vertical-align: middle;\n    }\n\n    .dataframe tbody tr th {\n        vertical-align: top;\n    }\n\n    .dataframe thead th {\n        text-align: right;\n    }\n</style>\n<table border=\"1\" class=\"dataframe\">\n  <thead>\n    <tr style=\"text-align: right;\">\n      <th></th>\n      <th>date</th>\n      <th>datatype</th>\n      <th>station</th>\n      <th>attributes</th>\n      <th>value</th>\n    </tr>\n  </thead>\n  <tbody>\n    <tr>\n      <th>0</th>\n      <td>2020-01-01T00:00:00</td>\n      <td>TAVG</td>\n      <td>GHCND:USR0000ABAN</td>\n      <td>,,U,</td>\n      <td>72</td>\n    </tr>\n    <tr>\n      <th>0</th>\n      <td>2020-01-01T00:00:00</td>\n      <td>TAVG</td>\n      <td>GHCND:USR0000ABNS</td>\n      <td>,,U,</td>\n      <td>135</td>\n    </tr>\n    <tr>\n      <th>0</th>\n      <td>2020-01-01T00:00:00</td>\n      <td>TAVG</td>\n      <td>GHCND:USR0000ALIR</td>\n      <td>,,U,</td>\n      <td>38</td>\n    </tr>\n    <tr>\n      <th>0</th>\n      <td>2020-01-01T00:00:00</td>\n      <td>TAVG</td>\n      <td>GHCND:USR0000AOKM</td>\n      <td>,,U,</td>\n      <td>66</td>\n    </tr>\n    <tr>\n      <th>0</th>\n      <td>2020-01-01T00:00:00</td>\n      <td>TAVG</td>\n      <td>GHCND:USR0000AOPE</td>\n      <td>,,U,</td>\n      <td>102</td>\n    </tr>\n  </tbody>\n</table>\n</div>"
     },
     "metadata": {},
     "execution_count": 382
    }
   ],
   "source": [
    "df_output.head()"
   ]
  },
  {
   "cell_type": "code",
   "execution_count": 383,
   "metadata": {},
   "outputs": [
    {
     "output_type": "execute_result",
     "data": {
      "text/plain": [
       "                  date datatype            station attributes  value\n",
       "0  2020-12-31T00:00:00     TAVG  GHCND:USW00013829      H,,S,    133\n",
       "0  2020-12-31T00:00:00     TAVG  GHCND:USW00013876      H,,S,    155\n",
       "0  2020-12-31T00:00:00     TAVG  GHCND:USW00013894      H,,S,    184\n",
       "0  2020-12-31T00:00:00     TAVG  GHCND:USW00013895      H,,S,    164\n",
       "0  2020-12-31T00:00:00     TAVG  GHCND:USW00053864      H,,S,    144"
      ],
      "text/html": "<div>\n<style scoped>\n    .dataframe tbody tr th:only-of-type {\n        vertical-align: middle;\n    }\n\n    .dataframe tbody tr th {\n        vertical-align: top;\n    }\n\n    .dataframe thead th {\n        text-align: right;\n    }\n</style>\n<table border=\"1\" class=\"dataframe\">\n  <thead>\n    <tr style=\"text-align: right;\">\n      <th></th>\n      <th>date</th>\n      <th>datatype</th>\n      <th>station</th>\n      <th>attributes</th>\n      <th>value</th>\n    </tr>\n  </thead>\n  <tbody>\n    <tr>\n      <th>0</th>\n      <td>2020-12-31T00:00:00</td>\n      <td>TAVG</td>\n      <td>GHCND:USW00013829</td>\n      <td>H,,S,</td>\n      <td>133</td>\n    </tr>\n    <tr>\n      <th>0</th>\n      <td>2020-12-31T00:00:00</td>\n      <td>TAVG</td>\n      <td>GHCND:USW00013876</td>\n      <td>H,,S,</td>\n      <td>155</td>\n    </tr>\n    <tr>\n      <th>0</th>\n      <td>2020-12-31T00:00:00</td>\n      <td>TAVG</td>\n      <td>GHCND:USW00013894</td>\n      <td>H,,S,</td>\n      <td>184</td>\n    </tr>\n    <tr>\n      <th>0</th>\n      <td>2020-12-31T00:00:00</td>\n      <td>TAVG</td>\n      <td>GHCND:USW00013895</td>\n      <td>H,,S,</td>\n      <td>164</td>\n    </tr>\n    <tr>\n      <th>0</th>\n      <td>2020-12-31T00:00:00</td>\n      <td>TAVG</td>\n      <td>GHCND:USW00053864</td>\n      <td>H,,S,</td>\n      <td>144</td>\n    </tr>\n  </tbody>\n</table>\n</div>"
     },
     "metadata": {},
     "execution_count": 383
    }
   ],
   "source": [
    "df_output.tail()"
   ]
  },
  {
   "cell_type": "code",
   "execution_count": null,
   "metadata": {},
   "outputs": [],
   "source": [
    "print(state,records_count,locationid)"
   ]
  },
  {
   "cell_type": "code",
   "execution_count": 366,
   "metadata": {},
   "outputs": [
    {
     "output_type": "execute_result",
     "data": {
      "text/plain": [
       "Empty DataFrame\n",
       "Columns: []\n",
       "Index: []"
      ],
      "text/html": "<div>\n<style scoped>\n    .dataframe tbody tr th:only-of-type {\n        vertical-align: middle;\n    }\n\n    .dataframe tbody tr th {\n        vertical-align: top;\n    }\n\n    .dataframe thead th {\n        text-align: right;\n    }\n</style>\n<table border=\"1\" class=\"dataframe\">\n  <thead>\n    <tr style=\"text-align: right;\">\n      <th></th>\n    </tr>\n  </thead>\n  <tbody>\n  </tbody>\n</table>\n</div>"
     },
     "metadata": {},
     "execution_count": 366
    }
   ],
   "source": [
    "df_output = pd.DataFrame()\n",
    "df_output"
   ]
  },
  {
   "cell_type": "code",
   "execution_count": 367,
   "metadata": {
    "tags": []
   },
   "outputs": [],
   "source": [
    "\n",
    "for item in current_dict['results']:\n",
    "    df_temporary = pd.DataFrame([item])\n",
    "    df_output = df_output.append(df_temporary)"
   ]
  },
  {
   "cell_type": "code",
   "execution_count": null,
   "metadata": {},
   "outputs": [],
   "source": [
    "# for offset in np.arange(0, 38862, 1000):\n",
    "# number_of_records = current_dict['metadata']['resultset']['count']\n",
    "# records_dict[locationid] = number_of_records\n",
    "\n",
    "\n",
    "# for item in current_dict['results']:\n",
    "#         all_locations_dict[item['id']] = item['name']"
   ]
  }
 ]
}