{
 "metadata": {
  "language_info": {
   "codemirror_mode": {
    "name": "ipython",
    "version": 3
   },
   "file_extension": ".py",
   "mimetype": "text/x-python",
   "name": "python",
   "nbconvert_exporter": "python",
   "pygments_lexer": "ipython3",
   "version": "3.9.4"
  },
  "orig_nbformat": 2,
  "kernelspec": {
   "name": "python394jvsc74a57bd0557e109ac264cdc2492409c8fa8d58aecf756628952d6e2cb8fcb82be6facdc6",
   "display_name": "Python 3.9.4 64-bit"
  }
 },
 "nbformat": 4,
 "nbformat_minor": 2,
 "cells": [
  {
   "cell_type": "code",
   "execution_count": 1,
   "metadata": {},
   "outputs": [],
   "source": [
    "import pandas as pd\n",
    "import numpy as np\n",
    "import matplotlib.pyplot as plt\n",
    "import seaborn as sns\n",
    "import datetime as dt\n",
    "import scipy.stats\n",
    "\n",
    "%matplotlib inline"
   ]
  },
  {
   "cell_type": "code",
   "execution_count": 2,
   "metadata": {},
   "outputs": [],
   "source": [
    "Country_in_Interest = ['Canada', 'France', 'Germany', 'United Kingdom', 'United States', 'Italy', 'India']"
   ]
  },
  {
   "cell_type": "code",
   "execution_count": 3,
   "metadata": {},
   "outputs": [],
   "source": [
    "who_data_raw = pd.read_csv('./data/WHO-COVID-19-global-data.csv')"
   ]
  },
  {
   "cell_type": "code",
   "execution_count": 4,
   "metadata": {},
   "outputs": [
    {
     "output_type": "execute_result",
     "data": {
      "text/plain": [
       "           New_cases  Cumulative_cases     New_deaths  Cumulative_deaths\n",
       "count  116604.000000      1.166040e+05  116604.000000      116604.000000\n",
       "mean     1342.120270      1.939244e+05      27.993405        4696.406435\n",
       "std      9033.524904      1.249094e+06     158.120416       25499.416702\n",
       "min    -32952.000000      0.000000e+00    -514.000000           0.000000\n",
       "25%         0.000000      1.400000e+01       0.000000           0.000000\n",
       "50%         6.000000      1.859500e+03       0.000000          30.000000\n",
       "75%       264.000000      3.553250e+04       4.000000         609.000000\n",
       "max    414188.000000      3.225742e+07    6409.000000      574518.000000"
      ],
      "text/html": "<div>\n<style scoped>\n    .dataframe tbody tr th:only-of-type {\n        vertical-align: middle;\n    }\n\n    .dataframe tbody tr th {\n        vertical-align: top;\n    }\n\n    .dataframe thead th {\n        text-align: right;\n    }\n</style>\n<table border=\"1\" class=\"dataframe\">\n  <thead>\n    <tr style=\"text-align: right;\">\n      <th></th>\n      <th>New_cases</th>\n      <th>Cumulative_cases</th>\n      <th>New_deaths</th>\n      <th>Cumulative_deaths</th>\n    </tr>\n  </thead>\n  <tbody>\n    <tr>\n      <th>count</th>\n      <td>116604.000000</td>\n      <td>1.166040e+05</td>\n      <td>116604.000000</td>\n      <td>116604.000000</td>\n    </tr>\n    <tr>\n      <th>mean</th>\n      <td>1342.120270</td>\n      <td>1.939244e+05</td>\n      <td>27.993405</td>\n      <td>4696.406435</td>\n    </tr>\n    <tr>\n      <th>std</th>\n      <td>9033.524904</td>\n      <td>1.249094e+06</td>\n      <td>158.120416</td>\n      <td>25499.416702</td>\n    </tr>\n    <tr>\n      <th>min</th>\n      <td>-32952.000000</td>\n      <td>0.000000e+00</td>\n      <td>-514.000000</td>\n      <td>0.000000</td>\n    </tr>\n    <tr>\n      <th>25%</th>\n      <td>0.000000</td>\n      <td>1.400000e+01</td>\n      <td>0.000000</td>\n      <td>0.000000</td>\n    </tr>\n    <tr>\n      <th>50%</th>\n      <td>6.000000</td>\n      <td>1.859500e+03</td>\n      <td>0.000000</td>\n      <td>30.000000</td>\n    </tr>\n    <tr>\n      <th>75%</th>\n      <td>264.000000</td>\n      <td>3.553250e+04</td>\n      <td>4.000000</td>\n      <td>609.000000</td>\n    </tr>\n    <tr>\n      <th>max</th>\n      <td>414188.000000</td>\n      <td>3.225742e+07</td>\n      <td>6409.000000</td>\n      <td>574518.000000</td>\n    </tr>\n  </tbody>\n</table>\n</div>"
     },
     "metadata": {},
     "execution_count": 4
    }
   ],
   "source": [
    "who_data_raw.describe()"
   ]
  },
  {
   "cell_type": "code",
   "execution_count": 5,
   "metadata": {},
   "outputs": [
    {
     "output_type": "execute_result",
     "data": {
      "text/plain": [
       "116604"
      ]
     },
     "metadata": {},
     "execution_count": 5
    }
   ],
   "source": [
    "len(who_data_raw)"
   ]
  },
  {
   "cell_type": "code",
   "execution_count": null,
   "metadata": {},
   "outputs": [],
   "source": []
  }
 ]
}